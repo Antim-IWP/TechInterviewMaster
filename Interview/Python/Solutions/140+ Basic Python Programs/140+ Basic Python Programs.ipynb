{
 "cells": [
  {
   "cell_type": "markdown",
   "id": "857b1d52",
   "metadata": {},
   "source": [
    "# Basic Python Programs"
   ]
  },
  {
   "cell_type": "code",
   "execution_count": 5,
   "id": "02df09d5",
   "metadata": {},
   "outputs": [
    {
     "data": {
      "text/html": [
       "<div align=\"center\"><h1>Basic Python Programs</h1></div>"
      ],
      "text/plain": [
       "<IPython.core.display.HTML object>"
      ]
     },
     "metadata": {},
     "output_type": "display_data"
    }
   ],
   "source": [
    "# Display a title using Python code\n",
    "from IPython.display import display, HTML\n",
    "display(HTML('<div align=\"center\"><h1>Basic Python Programs</h1></div>'))"
   ]
  },
  {
   "cell_type": "markdown",
   "id": "e689444c",
   "metadata": {},
   "source": [
    "### 140+ Basic Python Programs\n",
    "### 140+ Basic Python Programs.ipynb"
   ]
  },
  {
   "cell_type": "markdown",
   "id": "c39d34d7",
   "metadata": {},
   "source": [
    "##### Program 1: Hello World"
   ]
  },
  {
   "cell_type": "code",
   "execution_count": 19,
   "id": "90d2de7b",
   "metadata": {},
   "outputs": [
    {
     "name": "stdout",
     "output_type": "stream",
     "text": [
      "Hello World\n"
     ]
    }
   ],
   "source": [
    "print(\"Hello World\")"
   ]
  },
  {
   "cell_type": "markdown",
   "id": "60edccf1",
   "metadata": {},
   "source": [
    "#### Programs"
   ]
  },
  {
   "cell_type": "code",
   "execution_count": null,
   "id": "98289017",
   "metadata": {},
   "outputs": [],
   "source": []
  }
 ],
 "metadata": {
  "kernelspec": {
   "display_name": "Python 3",
   "language": "python",
   "name": "python3"
  },
  "language_info": {
   "codemirror_mode": {
    "name": "ipython",
    "version": 3
   },
   "file_extension": ".py",
   "mimetype": "text/x-python",
   "name": "python",
   "nbconvert_exporter": "python",
   "pygments_lexer": "ipython3",
   "version": "3.13.2"
  }
 },
 "nbformat": 4,
 "nbformat_minor": 5
}
