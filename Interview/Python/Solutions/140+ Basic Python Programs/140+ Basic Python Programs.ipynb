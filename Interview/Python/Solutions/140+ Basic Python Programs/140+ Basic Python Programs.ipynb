{
 "cells": [
  {
   "cell_type": "markdown",
   "id": "857b1d52",
   "metadata": {},
   "source": [
    "# Basic Python Programs"
   ]
  },
  {
   "cell_type": "code",
   "execution_count": 5,
   "id": "02df09d5",
   "metadata": {},
   "outputs": [
    {
     "data": {
      "text/html": [
       "<div align=\"center\"><h1>Basic Python Programs</h1></div>"
      ],
      "text/plain": [
       "<IPython.core.display.HTML object>"
      ]
     },
     "metadata": {},
     "output_type": "display_data"
    }
   ],
   "source": [
    "# Display a title using Python code\n",
    "from IPython.display import display, HTML\n",
    "display(HTML('<div align=\"center\"><h1>Basic Python Programs</h1></div>'))"
   ]
  },
  {
   "cell_type": "markdown",
   "id": "e689444c",
   "metadata": {},
   "source": [
    "### 140+ Basic Python Programs\n",
    "### 140+ Basic Python Programs.ipynb"
   ]
  },
  {
   "cell_type": "markdown",
   "id": "c39d34d7",
   "metadata": {},
   "source": [
    "##### Program 1: Hello World"
   ]
  },
  {
   "cell_type": "code",
   "execution_count": 19,
   "id": "90d2de7b",
   "metadata": {},
   "outputs": [
    {
     "name": "stdout",
     "output_type": "stream",
     "text": [
      "Hello World\n"
     ]
    }
   ],
   "source": [
    "print(\"Hello World\")"
   ]
  },
  {
   "cell_type": "markdown",
   "id": "60edccf1",
   "metadata": {},
   "source": [
    "#### Programs"
   ]
  },
  {
   "cell_type": "markdown",
   "id": "98289017",
   "metadata": {},
   "source": [
    "**Write a Python program to do arithmetic operations addition and division.**"
   ]
  },
  {
   "cell_type": "code",
   "execution_count": 24,
   "id": "962e3d8a",
   "metadata": {},
   "outputs": [
    {
     "name": "stdout",
     "output_type": "stream",
     "text": [
      "Enter first number: 2.0\n",
      "Enter second number: 5.0\n",
      "Sum is: 7.0\n"
     ]
    }
   ],
   "source": [
    "# Addition\n",
    "# This program adds two numbers provided by the user\n",
    "\n",
    "num1 = float(input(\"Enter first number:\"))\n",
    "print(\"Enter first number:\", num1)\n",
    "# Addition of two numbers\n",
    "num2 = float(input(\"Enter second number:\"))\n",
    "print(\"Enter second number:\", num2)\n",
    "sum_result = num1 + num2\n",
    "print(\"Sum is:\", sum_result)\n"
   ]
  },
  {
   "cell_type": "code",
   "execution_count": null,
   "id": "f64118f4",
   "metadata": {},
   "outputs": [],
   "source": []
  },
  {
   "cell_type": "markdown",
   "id": "88a09a6c",
   "metadata": {},
   "source": [
    "Here are the tasks for the project \"Python Basic Programs Completion\" with their respective labels and milestones:\n",
    "\n",
    "### Tasks\n",
    "1. **Task:** Add missing arithmetic operations (subtraction, multiplication, division).\n",
    "   - **Label:** enhancement\n",
    "   - **Milestone:** Complete Python Basic Programs\n",
    "\n",
    "2. **Task:** Improve documentation for each program with detailed explanations.\n",
    "   - **Label:** documentation\n",
    "   - **Milestone:** Complete Python Basic Programs\n",
    "\n",
    "3. **Task:** Add error handling for user inputs in arithmetic operations.\n",
    "   - **Label:** enhancement\n",
    "   - **Milestone:** Complete Python Basic Programs\n",
    "\n",
    "4. **Task:** Fix empty code cell (ID: `633dba4d`) by adding a division program.\n",
    "   - **Label:** bug\n",
    "   - **Milestone:** Complete Python Basic Programs\n",
    "\n",
    "5. **Task:** Add a program to calculate the factorial of a number.\n",
    "   - **Label:** enhancement\n",
    "   - **Milestone:** Complete Python Basic Programs\n",
    "\n",
    "6. **Task:** Add a program to check if a number is prime.\n",
    "   - **Label:** enhancement\n",
    "   - **Milestone:** Complete Python Basic Programs\n",
    "\n",
    "7. **Task:** Add a program to find the greatest common divisor (GCD) of two numbers.\n",
    "   - **Label:** enhancement\n",
    "   - **Milestone:** Complete Python Basic Programs\n",
    "\n",
    "8. **Task:** Add a program to reverse a string.\n",
    "   - **Label:** enhancement\n",
    "   - **Milestone:** Complete Python Basic Programs\n",
    "\n",
    "9. **Task:** Add a program to check if a string is a palindrome.\n",
    "   - **Label:** enhancement\n",
    "   - **Milestone:** Complete Python Basic Programs\n",
    "\n",
    "10. **Task:** Add a program to sort a list of numbers.\n",
    "    - **Label:** enhancement\n",
    "    - **Milestone:** Complete Python Basic Programs\n",
    "\n",
    "11. **Task:** Add test cases for all programs to ensure correctness.\n",
    "    - **Label:** help wanted\n",
    "    - **Milestone:** Complete Python Basic Programs\n",
    "\n",
    "12. **Task:** Add a README section for the notebook explaining its purpose and usage.\n",
    "    - **Label:** documentation\n",
    "    - **Milestone:** Complete Python Basic Programs\n",
    "\n",
    "Would you like me to update the notebook with any of these tasks?"
   ]
  },
  {
   "cell_type": "markdown",
   "id": "802cfa0f",
   "metadata": {},
   "source": []
  }
 ],
 "metadata": {
  "kernelspec": {
   "display_name": "Python 3",
   "language": "python",
   "name": "python3"
  },
  "language_info": {
   "codemirror_mode": {
    "name": "ipython",
    "version": 3
   },
   "file_extension": ".py",
   "mimetype": "text/x-python",
   "name": "python",
   "nbconvert_exporter": "python",
   "pygments_lexer": "ipython3",
   "version": "3.13.2"
  }
 },
 "nbformat": 4,
 "nbformat_minor": 5
}
